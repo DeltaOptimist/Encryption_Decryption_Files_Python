{
  "nbformat": 4,
  "nbformat_minor": 0,
  "metadata": {
    "colab": {
      "name": "write a program to store username and password in an encrypted form.ipynb",
      "provenance": []
    },
    "kernelspec": {
      "name": "python3",
      "display_name": "Python 3"
    },
    "language_info": {
      "name": "python"
    }
  },
  "cells": [
    {
      "cell_type": "code",
      "metadata": {
        "colab": {
          "base_uri": "https://localhost:8080/"
        },
        "id": "p7dLyVZCuRGu",
        "outputId": "8b9d93e6-a7a6-427a-af9e-ab82296d37a7"
      },
      "source": [
        "pip install cryptography"
      ],
      "execution_count": 2,
      "outputs": [
        {
          "output_type": "stream",
          "text": [
            "Collecting cryptography\n",
            "\u001b[?25l  Downloading https://files.pythonhosted.org/packages/b2/26/7af637e6a7e87258b963f1731c5982fb31cd507f0d90d91836e446955d02/cryptography-3.4.7-cp36-abi3-manylinux2014_x86_64.whl (3.2MB)\n",
            "\u001b[K     |████████████████████████████████| 3.2MB 4.3MB/s \n",
            "\u001b[?25hRequirement already satisfied: cffi>=1.12 in /usr/local/lib/python3.7/dist-packages (from cryptography) (1.14.5)\n",
            "Requirement already satisfied: pycparser in /usr/local/lib/python3.7/dist-packages (from cffi>=1.12->cryptography) (2.20)\n",
            "Installing collected packages: cryptography\n",
            "Successfully installed cryptography-3.4.7\n"
          ],
          "name": "stdout"
        }
      ]
    },
    {
      "cell_type": "code",
      "metadata": {
        "id": "qPtsh_pgEl3k"
      },
      "source": [
        "from cryptography.fernet import Fernet\n",
        "\n",
        "key = Fernet.generate_key()\n",
        "\n",
        "with open('mykey.key', 'wb') as mykey:\n",
        "    mykey.write(key)"
      ],
      "execution_count": 6,
      "outputs": []
    },
    {
      "cell_type": "code",
      "metadata": {
        "colab": {
          "base_uri": "https://localhost:8080/"
        },
        "id": "7lyiwz0WH2CD",
        "outputId": "492e5baa-a354-4242-883e-3547973d7250"
      },
      "source": [
        "# loading the key\n",
        "\n",
        "\n",
        "with open('mykey.key', 'rb') as mykey:\n",
        "    key = mykey.read()\n",
        "\n",
        "print(key)"
      ],
      "execution_count": 7,
      "outputs": [
        {
          "output_type": "stream",
          "text": [
            "b'a7jBRC68hd3N_FqClTweNr0IkqtJDrAUlmwNQFB1FK0='\n"
          ],
          "name": "stdout"
        }
      ]
    },
    {
      "cell_type": "markdown",
      "metadata": {
        "id": "lo3DlMMUIFg_"
      },
      "source": [
        "Encrypting a File\n",
        "\n",
        "Now that we have the file to encrypt and the encryption key, we will now write a function to utilize these and return the encrypted file:"
      ]
    },
    {
      "cell_type": "code",
      "metadata": {
        "id": "ptHQlebTH_C9"
      },
      "source": [
        "f = Fernet(key)\n",
        "\n",
        "with open('/content/grades.csv', 'rb') as original_file:\n",
        "    original = original_file.read()\n",
        "\n",
        "encrypted = f.encrypt(original)\n",
        "\n",
        "with open ('enc_grades.csv', 'wb') as encrypted_file:\n",
        "    encrypted_file.write(encrypted)"
      ],
      "execution_count": 8,
      "outputs": []
    },
    {
      "cell_type": "markdown",
      "metadata": {
        "id": "j-DQQsfyciE_"
      },
      "source": [
        "Decrypting a File"
      ]
    },
    {
      "cell_type": "code",
      "metadata": {
        "id": "qHCIqn4AcibC"
      },
      "source": [
        "f = Fernet(key)\n",
        "\n",
        "with open('/content/enc_grades.csv', 'rb') as encrypted_file:\n",
        "    encrypted = encrypted_file.read()\n",
        "\n",
        "decrypted = f.decrypt(encrypted)\n",
        "\n",
        "with open('dec_grades.csv', 'wb') as decrypted_file:\n",
        "    decrypted_file.write(decrypted)"
      ],
      "execution_count": 9,
      "outputs": []
    },
    {
      "cell_type": "code",
      "metadata": {
        "id": "wraGTZeYcp-e"
      },
      "source": [
        ""
      ],
      "execution_count": null,
      "outputs": []
    },
    {
      "cell_type": "markdown",
      "metadata": {
        "id": "oWOsENb_dnSM"
      },
      "source": [
        "## Complete Object-Oriented Programming Example"
      ]
    },
    {
      "cell_type": "code",
      "metadata": {
        "id": "pb27vHlRdooi"
      },
      "source": [
        "class Encryptor():\n",
        "\n",
        "    def key_create(self):\n",
        "        key = Fernet.generate_key()\n",
        "        return key\n",
        "\n",
        "    def key_write(self, key, key_name):\n",
        "        with open(key_name, 'wb') as mykey:\n",
        "            mykey.write(key)\n",
        "\n",
        "    def key_load(self, key_name):\n",
        "        with open(key_name, 'rb') as mykey:\n",
        "            key = mykey.read()\n",
        "        return key\n",
        "\n",
        "\n",
        "    def file_encrypt(self, key, original_file, encrypted_file):\n",
        "        \n",
        "        f = Fernet(key)\n",
        "\n",
        "        with open(original_file, 'rb') as file:\n",
        "            original = file.read()\n",
        "\n",
        "        encrypted = f.encrypt(original)\n",
        "\n",
        "        with open (encrypted_file, 'wb') as file:\n",
        "            file.write(encrypted)\n",
        "\n",
        "    def file_decrypt(self, key, encrypted_file, decrypted_file):\n",
        "        \n",
        "        f = Fernet(key)\n",
        "\n",
        "        with open(encrypted_file, 'rb') as file:\n",
        "            encrypted = file.read()\n",
        "\n",
        "        decrypted = f.decrypt(encrypted)\n",
        "\n",
        "        with open(decrypted_file, 'wb') as file:\n",
        "            file.write(decrypted)"
      ],
      "execution_count": 10,
      "outputs": []
    },
    {
      "cell_type": "code",
      "metadata": {
        "id": "pVDWpRsWdsFI"
      },
      "source": [
        "encryptor=Encryptor()\n",
        "\n",
        "mykey=encryptor.key_create()\n",
        "\n",
        "encryptor.key_write(mykey, 'mykey.key')\n",
        "\n",
        "loaded_key=encryptor.key_load('mykey.key')\n",
        "\n",
        "encryptor.file_encrypt(loaded_key, 'grades.csv', 'enc_grades.csv')\n",
        "\n",
        "encryptor.file_decrypt(loaded_key, 'enc_grades.csv', 'dec_grades.csv')"
      ],
      "execution_count": 11,
      "outputs": []
    },
    {
      "cell_type": "code",
      "metadata": {
        "colab": {
          "base_uri": "https://localhost:8080/",
          "height": 81
        },
        "id": "h_NAUda4dxwO",
        "outputId": "5f56c8f1-2cc6-433d-957b-e997020b9629"
      },
      "source": [
        "import pandas as pd\n",
        "\n",
        "enc_grades_df = pd.read_csv(\"/content/enc_grades.csv\")\n",
        "enc_grades_df.head()"
      ],
      "execution_count": 13,
      "outputs": [
        {
          "output_type": "execute_result",
          "data": {
            "text/html": [
              "<div>\n",
              "<style scoped>\n",
              "    .dataframe tbody tr th:only-of-type {\n",
              "        vertical-align: middle;\n",
              "    }\n",
              "\n",
              "    .dataframe tbody tr th {\n",
              "        vertical-align: top;\n",
              "    }\n",
              "\n",
              "    .dataframe thead th {\n",
              "        text-align: right;\n",
              "    }\n",
              "</style>\n",
              "<table border=\"1\" class=\"dataframe\">\n",
              "  <thead>\n",
              "    <tr style=\"text-align: right;\">\n",
              "      <th></th>\n",
              "      <th>gAAAAABgo_WG9Blld8OsvynRLkfBL1wP-oy5iyWEEIYaQi-PGdmhfgsY0x8CfmCr7Pv2rCilpA-y6Hw8S3v6pvQFNdmF3-sHTpDedjyKls_GYQkkBlQHOqoXOLNf8QRxyBs7YjlyXvAAtMSVDE3wblZFBgY4Z-0m9_lyNU1almd6GjslLM_le2gRwmRd3g63Wd21CQURrFYK_-EYsC4Uxq4D4a8ZDZYUMeLwgbMKpHDs4EgWl59XxAOtvKzqtQ9O6IMq6Nhm7trh8lwh75Y9UM2oJavF5XiNXA==</th>\n",
              "    </tr>\n",
              "  </thead>\n",
              "  <tbody>\n",
              "  </tbody>\n",
              "</table>\n",
              "</div>"
            ],
            "text/plain": [
              "Empty DataFrame\n",
              "Columns: [gAAAAABgo_WG9Blld8OsvynRLkfBL1wP-oy5iyWEEIYaQi-PGdmhfgsY0x8CfmCr7Pv2rCilpA-y6Hw8S3v6pvQFNdmF3-sHTpDedjyKls_GYQkkBlQHOqoXOLNf8QRxyBs7YjlyXvAAtMSVDE3wblZFBgY4Z-0m9_lyNU1almd6GjslLM_le2gRwmRd3g63Wd21CQURrFYK_-EYsC4Uxq4D4a8ZDZYUMeLwgbMKpHDs4EgWl59XxAOtvKzqtQ9O6IMq6Nhm7trh8lwh75Y9UM2oJavF5XiNXA==]\n",
              "Index: []"
            ]
          },
          "metadata": {
            "tags": []
          },
          "execution_count": 13
        }
      ]
    },
    {
      "cell_type": "code",
      "metadata": {
        "colab": {
          "base_uri": "https://localhost:8080/",
          "height": 195
        },
        "id": "zU3bSt9Fd015",
        "outputId": "e625095e-7655-43b5-ebb2-10e5ffb606a5"
      },
      "source": [
        "dec_grades_df = pd.read_csv(\"/content/dec_grades.csv\")\n",
        "dec_grades_df.head()"
      ],
      "execution_count": 14,
      "outputs": [
        {
          "output_type": "execute_result",
          "data": {
            "text/html": [
              "<div>\n",
              "<style scoped>\n",
              "    .dataframe tbody tr th:only-of-type {\n",
              "        vertical-align: middle;\n",
              "    }\n",
              "\n",
              "    .dataframe tbody tr th {\n",
              "        vertical-align: top;\n",
              "    }\n",
              "\n",
              "    .dataframe thead th {\n",
              "        text-align: right;\n",
              "    }\n",
              "</style>\n",
              "<table border=\"1\" class=\"dataframe\">\n",
              "  <thead>\n",
              "    <tr style=\"text-align: right;\">\n",
              "      <th></th>\n",
              "      <th>student_id</th>\n",
              "      <th>first_name</th>\n",
              "      <th>last_name</th>\n",
              "      <th>grade</th>\n",
              "    </tr>\n",
              "  </thead>\n",
              "  <tbody>\n",
              "    <tr>\n",
              "      <th>0</th>\n",
              "      <td>1221</td>\n",
              "      <td>John</td>\n",
              "      <td>Smith</td>\n",
              "      <td>86</td>\n",
              "    </tr>\n",
              "    <tr>\n",
              "      <th>1</th>\n",
              "      <td>1222</td>\n",
              "      <td>Erica</td>\n",
              "      <td>Write</td>\n",
              "      <td>92</td>\n",
              "    </tr>\n",
              "    <tr>\n",
              "      <th>2</th>\n",
              "      <td>1223</td>\n",
              "      <td>Will</td>\n",
              "      <td>Erickson</td>\n",
              "      <td>74</td>\n",
              "    </tr>\n",
              "    <tr>\n",
              "      <th>3</th>\n",
              "      <td>1224</td>\n",
              "      <td>Madeline</td>\n",
              "      <td>Berg</td>\n",
              "      <td>82</td>\n",
              "    </tr>\n",
              "    <tr>\n",
              "      <th>4</th>\n",
              "      <td>1225</td>\n",
              "      <td>Mike</td>\n",
              "      <td>Ellis</td>\n",
              "      <td>79</td>\n",
              "    </tr>\n",
              "  </tbody>\n",
              "</table>\n",
              "</div>"
            ],
            "text/plain": [
              "   student_id first_name last_name  grade\n",
              "0        1221       John     Smith     86\n",
              "1        1222      Erica     Write     92\n",
              "2        1223       Will  Erickson     74\n",
              "3        1224   Madeline      Berg     82\n",
              "4        1225       Mike     Ellis     79"
            ]
          },
          "metadata": {
            "tags": []
          },
          "execution_count": 14
        }
      ]
    },
    {
      "cell_type": "code",
      "metadata": {
        "id": "eJoc9DsaeJvy"
      },
      "source": [
        ""
      ],
      "execution_count": null,
      "outputs": []
    }
  ]
}